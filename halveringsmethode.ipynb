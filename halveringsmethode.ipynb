{
 "cells": [
  {
   "cell_type": "markdown",
   "metadata": {},
   "source": [
    "Start: voorbereiding python voor tekeken en rekenen"
   ]
  },
  {
   "cell_type": "markdown",
   "metadata": {},
   "source": [
    "Importeer de nodige libraries"
   ]
  },
  {
   "cell_type": "code",
   "execution_count": 1,
   "metadata": {},
   "outputs": [],
   "source": [
    "import pandas as pd\n",
    "import numpy as np\n",
    "import matplotlib.pyplot as plt\n",
    "%matplotlib inline\n",
    "from numpy import * # use methods from numpy without np"
   ]
  },
  {
   "cell_type": "markdown",
   "metadata": {},
   "source": [
    "defineer je functie "
   ]
  },
  {
   "cell_type": "code",
   "execution_count": 10,
   "metadata": {},
   "outputs": [],
   "source": [
    "def g(x):\n",
    " return cos(x)-exp(x)"
   ]
  },
  {
   "cell_type": "code",
   "execution_count": 3,
   "metadata": {},
   "outputs": [],
   "source": [
    "def f(x):\n",
    " return x**2-9"
   ]
  },
  {
   "cell_type": "markdown",
   "metadata": {},
   "source": [
    "De definitie van de nulpunt routine"
   ]
  },
  {
   "cell_type": "code",
   "execution_count": 4,
   "metadata": {},
   "outputs": [],
   "source": [
    "def berekenNulpunt(f,l,r,eps,maxiter):\n",
    " stappen=0\n",
    " xl=l\n",
    " xr=r\n",
    " xt=(xl+xr)/2\n",
    " fl=f(xl)\n",
    " fr=f(xr)\n",
    " ft=f(xt)\n",
    " res=([xl,xr],[fl,fr])\n",
    " antwoord=\"Het nulpunt ligt tussen links: \"+str(l)+', met f('+str(l)+')='+str(fl)\n",
    " antwoord+=\" en rechts: \"+str(r)+', met f('+str(r)+')='+str(fr)\n",
    " if fl*fr>=0 :\n",
    "    antwoord=''\n",
    "    if fl*fr>0 : \n",
    "        antwoord=\"de linker en rechter grens omsluiten geen nulpunt\"\n",
    "    if abs(fl)<eps :\n",
    "        antwoord=\"voor x=\"+str(xl)+\" heeft de functie een nulpunt\"\n",
    "    if abs(fr)<eps :\n",
    "        antwoord+=\"\\nvoor x=\"+str(xr)+\" heeft de functie een nulpunt\"\n",
    " else :\n",
    "    while True:\n",
    "        stappen+=1\n",
    "        xt=(xl+xr)/2\n",
    "        ft=f(xt)\n",
    "        #print(xt,ft)\n",
    "        if abs(ft)<eps:\n",
    "            antwoord=\"voor x=\"+str(xt)+\" heeft de functie een nulpunt\"\n",
    "            res=(xt,ft)\n",
    "            break\n",
    "        if  fl*ft<0 :\n",
    "            fr=ft\n",
    "            xr=xt\n",
    "        else:\n",
    "            fl=ft\n",
    "            xl=xt\n",
    "        if stappen>maxiter or abs(ft) <= eps:\n",
    "            break\n",
    "        res=(xt,ft)\n",
    " print(antwoord)\n",
    " return res"
   ]
  },
  {
   "cell_type": "markdown",
   "metadata": {},
   "source": [
    "startNulpunt maakt de tekening en bepaalt het nulpunt"
   ]
  },
  {
   "cell_type": "code",
   "execution_count": 5,
   "metadata": {},
   "outputs": [],
   "source": [
    "def startNulpunt(f,l,r,eps,n):\n",
    "    x = np.arange(l*1.1,r*1.1,abs((r-l)/100)+0.0001)   # start,stop,step\n",
    "    y = f(x)\n",
    "    plt.plot(x,y)\n",
    "    plt.axhline(y=0, color='r')\n",
    "    plt.axvline(x=0, color='r')\n",
    "    plt.grid(True)\n",
    "    plt.xlabel('x')   # string must be enclosed with quotes '  '\n",
    "    plt.ylabel('f(x)')   # string must be enclosed with quotes '  '\n",
    "    pt=berekenNulpunt(f,l,r,eps,n)\n",
    "    print(pt)\n",
    "    plt.plot(pt[0],pt[1],'ob')\n",
    "    plt.show()"
   ]
  },
  {
   "cell_type": "markdown",
   "metadata": {},
   "source": [
    "functie voor alleen het plotten van je functie"
   ]
  },
  {
   "cell_type": "code",
   "execution_count": 6,
   "metadata": {},
   "outputs": [],
   "source": [
    "def plotFunc(f,l,r):\n",
    "    x = np.arange(l*1.1,r*1.1,abs((r-l)/100)+0.0001)   # start,stop,step\n",
    "    y = f(x)\n",
    "    plt.plot(x,y)\n",
    "    plt.axhline(y=0, color='r')\n",
    "    plt.axvline(x=0, color='r')\n",
    "    plt.grid(True)\n",
    "    plt.show()"
   ]
  },
  {
   "cell_type": "markdown",
   "metadata": {},
   "source": [
    "Teken je functie"
   ]
  },
  {
   "cell_type": "code",
   "execution_count": 7,
   "metadata": {},
   "outputs": [
    {
     "data": {
      "image/png": "[encoded data removed]",
      "text/plain": [
       "<Figure size 432x288 with 1 Axes>"
      ]
     },
     "metadata": {
      "needs_background": "light"
     },
     "output_type": "display_data"
    }
   ],
   "source": [
    "plotFunc(f,-3,3)"
   ]
  },
  {
   "cell_type": "markdown",
   "metadata": {},
   "source": [
    "Voer een nulpunts bepaling uit"
   ]
  },
  {
   "cell_type": "code",
   "execution_count": 8,
   "metadata": {},
   "outputs": [
    {
     "name": "stdout",
     "output_type": "stream",
     "text": [
      "\n",
      "voor x=3 heeft de functie een nulpunt\n",
      "([-2, 3], [-5, 0])\n"
     ]
    },
    {
     "data": {
      "image/png": "[encoded data removed]",
      "text/plain": [
       "<Figure size 432x288 with 1 Axes>"
      ]
     },
     "metadata": {
      "needs_background": "light"
     },
     "output_type": "display_data"
    }
   ],
   "source": [
    "startNulpunt(f,-2,3,1E-6,100)"
   ]
  },
  {
   "cell_type": "code",
   "execution_count": 11,
   "metadata": {},
   "outputs": [
    {
     "name": "stdout",
     "output_type": "stream",
     "text": [
      "voor x=-1.2926959991455078 heeft de functie een nulpunt\n",
      "(-1.2926959991455078, -1.9221713665196205e-07)\n"
     ]
    },
    {
     "data": {
      "image/png": "[encoded data removed]",
      "text/plain": [
       "<Figure size 432x288 with 1 Axes>"
      ]
     },
     "metadata": {
      "needs_background": "light"
     },
     "output_type": "display_data"
    }
   ],
   "source": [
    "startNulpunt(g,-2,-1,1E-6,100)"
   ]
  },
  {
   "cell_type": "code",
   "execution_count": null,
   "metadata": {},
   "outputs": [],
   "source": []
  }
 ],
 "metadata": {
  "kernelspec": {
   "display_name": "Python 3",
   "language": "python",
   "name": "python3"
  },
  "language_info": {
   "codemirror_mode": {
    "name": "ipython",
    "version": 3
   },
   "file_extension": ".py",
   "mimetype": "text/x-python",
   "name": "python",
   "nbconvert_exporter": "python",
   "pygments_lexer": "ipython3",
   "version": "3.7.2"
  }
 },
 "nbformat": 4,
 "nbformat_minor": 2
}
